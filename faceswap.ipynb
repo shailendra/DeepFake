{
  "nbformat": 4,
  "nbformat_minor": 0,
  "metadata": {
    "colab": {
      "name": "faceswap.ipynb",
      "provenance": [],
      "collapsed_sections": [],
      "toc_visible": true,
      "authorship_tag": "ABX9TyP7Ti2RHrg7dSAdlsM8pmje",
      "include_colab_link": true
    },
    "kernelspec": {
      "name": "python3",
      "display_name": "Python 3"
    },
    "accelerator": "GPU"
  },
  "cells": [
    {
      "cell_type": "markdown",
      "metadata": {
        "id": "view-in-github",
        "colab_type": "text"
      },
      "source": [
        "<a href=\"https://colab.research.google.com/github/shailendra/DeepFake/blob/master/faceswap.ipynb\" target=\"_parent\"><img src=\"https://colab.research.google.com/assets/colab-badge.svg\" alt=\"Open In Colab\"/></a>"
      ]
    },
    {
      "cell_type": "code",
      "metadata": {
        "id": "FTQk6pRnlzNC",
        "colab_type": "code",
        "colab": {
          "base_uri": "https://localhost:8080/",
          "height": 35
        },
        "outputId": "4478b2cc-3138-4a86-8a71-c162b60db8d9"
      },
      "source": [
        "%tensorflow_version 1.x"
      ],
      "execution_count": null,
      "outputs": [
        {
          "output_type": "stream",
          "text": [
            "TensorFlow 1.x selected.\n"
          ],
          "name": "stdout"
        }
      ]
    },
    {
      "cell_type": "markdown",
      "metadata": {
        "id": "rUv8CHOqnlbk",
        "colab_type": "text"
      },
      "source": [
        "<br><br><br>\n",
        "# **Clone DeepFakes**"
      ]
    },
    {
      "cell_type": "code",
      "metadata": {
        "id": "LF8C3GW8m0WE",
        "colab_type": "code",
        "colab": {}
      },
      "source": [
        "!git clone --depth 1 https://github.com/deepfakes/faceswap.git"
      ],
      "execution_count": null,
      "outputs": []
    },
    {
      "cell_type": "code",
      "metadata": {
        "id": "RLP0rGXzm-vh",
        "colab_type": "code",
        "colab": {}
      },
      "source": [
        "cd faceswap/"
      ],
      "execution_count": null,
      "outputs": []
    },
    {
      "cell_type": "markdown",
      "metadata": {
        "id": "JxiyTVBwjga0",
        "colab_type": "text"
      },
      "source": [
        "<br><br><br>\n",
        "# **Setup**\n",
        "Run setup with below setting\n",
        "```\n",
        "Enable AMD Support? [y/N] N\n",
        "Enable  Docker? [y/N] N\n",
        "Enable  CUDA? [Y/n] Y\n",
        "Location of custom tensorflow-gpu wheel (leave blank to manually install) #-- only \"Enter\"\n",
        "Please ensure your System Dependencies are met. Continue? [y/N] y\n",
        "```\n",
        "\n",
        "\n",
        "\n",
        "\n"
      ]
    },
    {
      "cell_type": "code",
      "metadata": {
        "id": "TS9hGvrhnF3k",
        "colab_type": "code",
        "colab": {}
      },
      "source": [
        "!python setup.py"
      ],
      "execution_count": null,
      "outputs": []
    },
    {
      "cell_type": "markdown",
      "metadata": {
        "id": "Q_utMDO0lALP",
        "colab_type": "text"
      },
      "source": [
        "<br><br><br>\n",
        "# **Install Compatible Package**\n",
        "After Setup some package will give compatible warning, Install that package with require version. Below imgaug gives warning so install with require vesion.<br>\n",
        "**After Install Again Run above code ( setup code)**\n",
        "```\n",
        "!python setup.py\n",
        "```"
      ]
    },
    {
      "cell_type": "code",
      "metadata": {
        "id": "G0x2IsuM6bsm",
        "colab_type": "code",
        "colab": {}
      },
      "source": [
        "!pip install imgaug==0.2.5"
      ],
      "execution_count": null,
      "outputs": []
    },
    {
      "cell_type": "markdown",
      "metadata": {
        "id": "Y9WXg2f0dXGH",
        "colab_type": "text"
      },
      "source": [
        "<br><br><br>\n",
        "# **Mount Google Drive**\n",
        "Mout google drive with auth and keep folder structure as per below\n",
        "```\n",
        "/my-data/faceswap-rahul/src/shahrukh/shahrukh.mp4\n",
        "/my-data/faceswap-rahul/src/rahul/rahul.mp4\n",
        "/my-data/faceswap-rahul/faces/shahrukh\n",
        "/my-data/faceswap-rahul/faces/rahul\n",
        "/my-data/faceswap-rahul/model-rahul\n",
        "/my-data/faceswap-rahul/output/\n",
        "```\n"
      ]
    },
    {
      "cell_type": "code",
      "metadata": {
        "id": "bkyCBYaltR4J",
        "colab_type": "code",
        "colab": {}
      },
      "source": [
        "from google.colab import drive\n",
        "drive.mount('/content/gdrive')"
      ],
      "execution_count": null,
      "outputs": []
    },
    {
      "cell_type": "markdown",
      "metadata": {
        "id": "oALoEPC-hgj_",
        "colab_type": "text"
      },
      "source": [
        "<br><br><br>\n",
        "# **Extract Faces**\n",
        "Extract Face image from Target and Destination video"
      ]
    },
    {
      "cell_type": "code",
      "metadata": {
        "id": "q820eRVOx8xU",
        "colab_type": "code",
        "colab": {}
      },
      "source": [
        "!python faceswap.py extract -i '/content/gdrive/My Drive/my-data/faceswap-rahul/src/shahrukh/shahrukh.mp4' -o '/content/gdrive/My Drive/my-data/faceswap-rahul/faces/shahrukh'"
      ],
      "execution_count": null,
      "outputs": []
    },
    {
      "cell_type": "code",
      "metadata": {
        "id": "jt9JWRdgzw5D",
        "colab_type": "code",
        "colab": {}
      },
      "source": [
        "!python faceswap.py extract -i '/content/gdrive/My Drive/my-data/faceswap-rahul/src/rahul/rahul.mp4' -o '/content/gdrive/My Drive/my-data/faceswap-rahul/faces/rahul'"
      ],
      "execution_count": null,
      "outputs": []
    },
    {
      "cell_type": "markdown",
      "metadata": {
        "id": "hWxFXmaPh870",
        "colab_type": "text"
      },
      "source": [
        "<br><br><br>\n",
        "# **Train Model**"
      ]
    },
    {
      "cell_type": "code",
      "metadata": {
        "id": "nILwMcYG0ILl",
        "colab_type": "code",
        "colab": {}
      },
      "source": [
        "!python faceswap.py train -A '/content/gdrive/My Drive/my-data/faceswap-rahul/faces/shahrukh' -B '/content/gdrive/My Drive/my-data/faceswap-rahul/faces/rahul' -m '/content/gdrive/My Drive/my-data/faceswap-rahul/model-rahul'"
      ],
      "execution_count": null,
      "outputs": []
    },
    {
      "cell_type": "markdown",
      "metadata": {
        "id": "dTI1C2pa5Xsu",
        "colab_type": "text"
      },
      "source": [
        "<br><br><br>\n",
        "# **Convert in to Video**"
      ]
    },
    {
      "cell_type": "code",
      "metadata": {
        "id": "Q7OEywfhZk1b",
        "colab_type": "code",
        "colab": {}
      },
      "source": [
        "!python faceswap.py convert -i '/content/gdrive/My Drive/my-data/faceswap-rahul/src/shahrukh/shahrukh.mp4' -o '/content/gdrive/My Drive/my-data/faceswap-rahul/output/' -m '/content/gdrive/My Drive/my-data/faceswap-rahul/model-rahul/' -w ffmpeg"
      ],
      "execution_count": null,
      "outputs": []
    },
    {
      "cell_type": "markdown",
      "metadata": {
        "id": "JPJf8j1vEGJc",
        "colab_type": "text"
      },
      "source": [
        "<br><br><br>\n",
        "# **Restore Model**"
      ]
    },
    {
      "cell_type": "code",
      "metadata": {
        "id": "4Cyf9_zGDVR_",
        "colab_type": "code",
        "colab": {}
      },
      "source": [
        "!python tools.py restore -L INFO -m '/content/gdrive/My Drive/my-data/faceswap-rahul/model-rahul'"
      ],
      "execution_count": null,
      "outputs": []
    }
  ]
}