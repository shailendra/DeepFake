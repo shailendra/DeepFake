{
  "nbformat": 4,
  "nbformat_minor": 0,
  "metadata": {
    "colab": {
      "name": "faceswap.ipynb",
      "provenance": [],
      "collapsed_sections": [],
      "toc_visible": true,
      "authorship_tag": "ABX9TyM/UuP6RIqPctMJe+6w0nbB",
      "include_colab_link": true
    },
    "kernelspec": {
      "name": "python3",
      "display_name": "Python 3"
    },
    "accelerator": "GPU"
  },
  "cells": [
    {
      "cell_type": "markdown",
      "metadata": {
        "id": "view-in-github",
        "colab_type": "text"
      },
      "source": [
        "<a href=\"https://colab.research.google.com/github/shailendra/DeepFake/blob/master/faceswap.ipynb\" target=\"_parent\"><img src=\"https://colab.research.google.com/assets/colab-badge.svg\" alt=\"Open In Colab\"/></a>"
      ]
    },
    {
      "cell_type": "code",
      "metadata": {
        "id": "FTQk6pRnlzNC",
        "colab_type": "code",
        "colab": {
          "base_uri": "https://localhost:8080/",
          "height": 35
        },
        "outputId": "4478b2cc-3138-4a86-8a71-c162b60db8d9"
      },
      "source": [
        "%tensorflow_version 1.x"
      ],
      "execution_count": null,
      "outputs": [
        {
          "output_type": "stream",
          "text": [
            "TensorFlow 1.x selected.\n"
          ],
          "name": "stdout"
        }
      ]
    },
    {
      "cell_type": "markdown",
      "metadata": {
        "id": "rUv8CHOqnlbk",
        "colab_type": "text"
      },
      "source": [
        "<br><br><br>\n",
        "# **Clone DeepFakes**"
      ]
    },
    {
      "cell_type": "code",
      "metadata": {
        "id": "LF8C3GW8m0WE",
        "colab_type": "code",
        "colab": {
          "base_uri": "https://localhost:8080/",
          "height": 143
        },
        "outputId": "c67b85e1-7756-4eb6-fb07-7e0b22485a47"
      },
      "source": [
        "!git clone --depth 1 https://github.com/deepfakes/faceswap.git"
      ],
      "execution_count": null,
      "outputs": [
        {
          "output_type": "stream",
          "text": [
            "Cloning into 'faceswap'...\n",
            "remote: Enumerating objects: 320, done.\u001b[K\n",
            "remote: Counting objects: 100% (320/320), done.\u001b[K\n",
            "remote: Compressing objects: 100% (281/281), done.\u001b[K\n",
            "remote: Total 320 (delta 67), reused 139 (delta 32), pack-reused 0\u001b[K\n",
            "Receiving objects: 100% (320/320), 782.44 KiB | 1.41 MiB/s, done.\n",
            "Resolving deltas: 100% (67/67), done.\n"
          ],
          "name": "stdout"
        }
      ]
    },
    {
      "cell_type": "code",
      "metadata": {
        "id": "RLP0rGXzm-vh",
        "colab_type": "code",
        "colab": {
          "base_uri": "https://localhost:8080/",
          "height": 35
        },
        "outputId": "c66d3951-aa77-43e5-a782-c3114e24a0d3"
      },
      "source": [
        "cd faceswap/"
      ],
      "execution_count": null,
      "outputs": [
        {
          "output_type": "stream",
          "text": [
            "/content/faceswap\n"
          ],
          "name": "stdout"
        }
      ]
    },
    {
      "cell_type": "markdown",
      "metadata": {
        "id": "JxiyTVBwjga0",
        "colab_type": "text"
      },
      "source": [
        "<br><br><br>\n",
        "# **Setup**\n",
        "Run setup with below setting\n",
        "```\n",
        "Enable AMD Support? [y/N] N\n",
        "Enable  Docker? [y/N] N\n",
        "Enable  CUDA? [Y/n] Y\n",
        "Location of custom tensorflow-gpu wheel (leave blank to manually install) #-- only \"Enter\"\n",
        "Please ensure your System Dependencies are met. Continue? [y/N] y\n",
        "```\n",
        "\n",
        "\n",
        "\n",
        "\n"
      ]
    },
    {
      "cell_type": "code",
      "metadata": {
        "id": "TS9hGvrhnF3k",
        "colab_type": "code",
        "colab": {
          "base_uri": "https://localhost:8080/",
          "height": 737
        },
        "outputId": "57ac0a21-fc92-46d3-d6b7-05498fa36f8a"
      },
      "source": [
        "!python setup.py"
      ],
      "execution_count": null,
      "outputs": [
        {
          "output_type": "stream",
          "text": [
            "\u001b[32mINFO   \u001b[0m Running as Root/Admin\n",
            "\u001b[32mINFO   \u001b[0m The tool provides tips for installation\r\n",
            "        and installs required python packages\n",
            "\u001b[32mINFO   \u001b[0m Setup in Linux 4.19.112+\n",
            "\u001b[32mINFO   \u001b[0m Installed Python: 3.6.9 64bit\n",
            "\u001b[32mINFO   \u001b[0m Encoding: UTF-8\n",
            "\u001b[32mINFO   \u001b[0m Upgrading pip...\n",
            "\u001b[32mINFO   \u001b[0m Installed pip: 20.2.2\n",
            "\u001b[32mINFO   \u001b[0m AMD Support: AMD GPU support is currently limited.\n",
            "        Nvidia Users MUST answer 'no' to this option.\n",
            "Enable AMD Support? [y/N] N\n",
            "\u001b[32mINFO   \u001b[0m AMD Support Disabled\n",
            "Enable  Docker? [y/N] N\n",
            "\u001b[32mINFO   \u001b[0m Docker Disabled\n",
            "Enable  CUDA? [Y/n] Y\n",
            "\u001b[32mINFO   \u001b[0m CUDA Enabled\n",
            "\u001b[32mINFO   \u001b[0m CUDA version: 10.1\n",
            "\u001b[32mINFO   \u001b[0m cuDNN version: 7.6.5\n",
            "\u001b[33mWARNING\u001b[0m The minimum Tensorflow requirement is 1.12. \n",
            "        Tensorflow currently has no official prebuild for your CUDA, cuDNN combination.\n",
            "        Either install a combination that Tensorflow supports or build and install your own tensorflow-gpu.\n",
            "        CUDA Version: 10.1\n",
            "        cuDNN Version: 7.6\n",
            "        Help:\n",
            "        Building Tensorflow: https://www.tensorflow.org/install/install_sources\n",
            "        Tensorflow supported versions: https://www.tensorflow.org/install/source#tested_build_configurations\n",
            "Location of custom tensorflow-gpu wheel (leave blank to manually install): \n",
            "\u001b[32mINFO   \u001b[0m Faceswap config written to: /content/faceswap/config/.faceswap\n",
            "Please ensure your System Dependencies are met. Continue? [y/N] y\n",
            "\u001b[32mINFO   \u001b[0m Installing Required Python Packages. This may take some time...\n",
            "\u001b[32mINFO   \u001b[0m Installing pillow>=7.0.0\n",
            "\u001b[32mINFO   \u001b[0m Installing Keras==2.2.4\n",
            "\u001b[K     |████████████████████████████████| 312 kB 2.6 MB/s \n",
            "\u001b[?25h\u001b[32mINFO   \u001b[0m Installing git+https://github.com/deepfakes/nvidia-ml-py3.git\n",
            "  Building wheel for nvidia-ml-py3 (setup.py) ... \u001b[?25l\u001b[?25hdone\n",
            "\u001b[32mINFO   \u001b[0m All python3 dependencies are met.\n",
            "        You are good to go.\n",
            "        \n",
            "        Enter:  'python faceswap.py -h' to see the options\n",
            "                'python faceswap.py gui' to launch the GUI\n"
          ],
          "name": "stdout"
        }
      ]
    },
    {
      "cell_type": "markdown",
      "metadata": {
        "id": "Q_utMDO0lALP",
        "colab_type": "text"
      },
      "source": [
        "<br><br><br>\n",
        "# **Install Compatible Package**\n",
        "After Setup some package will give compatible warning, Install that package with require version. Below imgaug gives warning so install with require vesion.<br>\n",
        "**After Install Again Run above code ( setup code)**\n",
        "```\n",
        "!python setup.py\n",
        "```"
      ]
    },
    {
      "cell_type": "code",
      "metadata": {
        "id": "G0x2IsuM6bsm",
        "colab_type": "code",
        "colab": {
          "base_uri": "https://localhost:8080/",
          "height": 541
        },
        "outputId": "f2de8c8d-6565-4a59-d0e6-9293d0e941ea"
      },
      "source": [
        "!pip install imgaug==0.2.5"
      ],
      "execution_count": null,
      "outputs": [
        {
          "output_type": "stream",
          "text": [
            "Collecting imgaug==0.2.5\n",
            "  Downloading imgaug-0.2.5.tar.gz (562 kB)\n",
            "\u001b[?25l\r\u001b[K     |▋                               | 10 kB 31.2 MB/s eta 0:00:01\r\u001b[K     |█▏                              | 20 kB 1.7 MB/s eta 0:00:01\r\u001b[K     |█▊                              | 30 kB 2.2 MB/s eta 0:00:01\r\u001b[K     |██▎                             | 40 kB 2.5 MB/s eta 0:00:01\r\u001b[K     |███                             | 51 kB 1.9 MB/s eta 0:00:01\r\u001b[K     |███▌                            | 61 kB 2.2 MB/s eta 0:00:01\r\u001b[K     |████                            | 71 kB 2.4 MB/s eta 0:00:01\r\u001b[K     |████▋                           | 81 kB 2.7 MB/s eta 0:00:01\r\u001b[K     |█████▎                          | 92 kB 2.8 MB/s eta 0:00:01\r\u001b[K     |█████▉                          | 102 kB 2.7 MB/s eta 0:00:01\r\u001b[K     |██████▍                         | 112 kB 2.7 MB/s eta 0:00:01\r\u001b[K     |███████                         | 122 kB 2.7 MB/s eta 0:00:01\r\u001b[K     |███████▋                        | 133 kB 2.7 MB/s eta 0:00:01\r\u001b[K     |████████▏                       | 143 kB 2.7 MB/s eta 0:00:01\r\u001b[K     |████████▊                       | 153 kB 2.7 MB/s eta 0:00:01\r\u001b[K     |█████████▎                      | 163 kB 2.7 MB/s eta 0:00:01\r\u001b[K     |██████████                      | 174 kB 2.7 MB/s eta 0:00:01\r\u001b[K     |██████████▌                     | 184 kB 2.7 MB/s eta 0:00:01\r\u001b[K     |███████████                     | 194 kB 2.7 MB/s eta 0:00:01\r\u001b[K     |███████████▋                    | 204 kB 2.7 MB/s eta 0:00:01\r\u001b[K     |████████████▎                   | 215 kB 2.7 MB/s eta 0:00:01\r\u001b[K     |████████████▉                   | 225 kB 2.7 MB/s eta 0:00:01\r\u001b[K     |█████████████▍                  | 235 kB 2.7 MB/s eta 0:00:01\r\u001b[K     |██████████████                  | 245 kB 2.7 MB/s eta 0:00:01\r\u001b[K     |██████████████▋                 | 256 kB 2.7 MB/s eta 0:00:01\r\u001b[K     |███████████████▏                | 266 kB 2.7 MB/s eta 0:00:01\r\u001b[K     |███████████████▊                | 276 kB 2.7 MB/s eta 0:00:01\r\u001b[K     |████████████████▎               | 286 kB 2.7 MB/s eta 0:00:01\r\u001b[K     |████████████████▉               | 296 kB 2.7 MB/s eta 0:00:01\r\u001b[K     |█████████████████▌              | 307 kB 2.7 MB/s eta 0:00:01\r\u001b[K     |██████████████████              | 317 kB 2.7 MB/s eta 0:00:01\r\u001b[K     |██████████████████▋             | 327 kB 2.7 MB/s eta 0:00:01\r\u001b[K     |███████████████████▏            | 337 kB 2.7 MB/s eta 0:00:01\r\u001b[K     |███████████████████▉            | 348 kB 2.7 MB/s eta 0:00:01\r\u001b[K     |████████████████████▍           | 358 kB 2.7 MB/s eta 0:00:01\r\u001b[K     |█████████████████████           | 368 kB 2.7 MB/s eta 0:00:01\r\u001b[K     |█████████████████████▌          | 378 kB 2.7 MB/s eta 0:00:01\r\u001b[K     |██████████████████████▏         | 389 kB 2.7 MB/s eta 0:00:01\r\u001b[K     |██████████████████████▊         | 399 kB 2.7 MB/s eta 0:00:01\r\u001b[K     |███████████████████████▎        | 409 kB 2.7 MB/s eta 0:00:01\r\u001b[K     |███████████████████████▉        | 419 kB 2.7 MB/s eta 0:00:01\r\u001b[K     |████████████████████████▌       | 430 kB 2.7 MB/s eta 0:00:01\r\u001b[K     |█████████████████████████       | 440 kB 2.7 MB/s eta 0:00:01\r\u001b[K     |█████████████████████████▋      | 450 kB 2.7 MB/s eta 0:00:01\r\u001b[K     |██████████████████████████▏     | 460 kB 2.7 MB/s eta 0:00:01\r\u001b[K     |██████████████████████████▉     | 471 kB 2.7 MB/s eta 0:00:01\r\u001b[K     |███████████████████████████▍    | 481 kB 2.7 MB/s eta 0:00:01\r\u001b[K     |████████████████████████████    | 491 kB 2.7 MB/s eta 0:00:01\r\u001b[K     |████████████████████████████▌   | 501 kB 2.7 MB/s eta 0:00:01\r\u001b[K     |█████████████████████████████▏  | 512 kB 2.7 MB/s eta 0:00:01\r\u001b[K     |█████████████████████████████▊  | 522 kB 2.7 MB/s eta 0:00:01\r\u001b[K     |██████████████████████████████▎ | 532 kB 2.7 MB/s eta 0:00:01\r\u001b[K     |██████████████████████████████▉ | 542 kB 2.7 MB/s eta 0:00:01\r\u001b[K     |███████████████████████████████▍| 552 kB 2.7 MB/s eta 0:00:01\r\u001b[K     |████████████████████████████████| 562 kB 2.7 MB/s \n",
            "\u001b[?25hRequirement already satisfied: scipy in /usr/local/lib/python3.6/dist-packages (from imgaug==0.2.5) (1.4.1)\n",
            "Requirement already satisfied: scikit-image>=0.11.0 in /usr/local/lib/python3.6/dist-packages (from imgaug==0.2.5) (0.16.2)\n",
            "Requirement already satisfied: numpy>=1.7.0 in /usr/local/lib/python3.6/dist-packages (from imgaug==0.2.5) (1.18.5)\n",
            "Requirement already satisfied: six in /usr/local/lib/python3.6/dist-packages (from imgaug==0.2.5) (1.15.0)\n",
            "Requirement already satisfied: networkx>=2.0 in /usr/local/lib/python3.6/dist-packages (from scikit-image>=0.11.0->imgaug==0.2.5) (2.4)\n",
            "Requirement already satisfied: matplotlib!=3.0.0,>=2.0.0 in /usr/local/lib/python3.6/dist-packages (from scikit-image>=0.11.0->imgaug==0.2.5) (3.2.2)\n",
            "Requirement already satisfied: pillow>=4.3.0 in /usr/local/lib/python3.6/dist-packages (from scikit-image>=0.11.0->imgaug==0.2.5) (7.0.0)\n",
            "Requirement already satisfied: PyWavelets>=0.4.0 in /usr/local/lib/python3.6/dist-packages (from scikit-image>=0.11.0->imgaug==0.2.5) (1.1.1)\n",
            "Requirement already satisfied: imageio>=2.3.0 in /usr/local/lib/python3.6/dist-packages (from scikit-image>=0.11.0->imgaug==0.2.5) (2.9.0)\n",
            "Requirement already satisfied: decorator>=4.3.0 in /usr/local/lib/python3.6/dist-packages (from networkx>=2.0->scikit-image>=0.11.0->imgaug==0.2.5) (4.4.2)\n",
            "Requirement already satisfied: pyparsing!=2.0.4,!=2.1.2,!=2.1.6,>=2.0.1 in /usr/local/lib/python3.6/dist-packages (from matplotlib!=3.0.0,>=2.0.0->scikit-image>=0.11.0->imgaug==0.2.5) (2.4.7)\n",
            "Requirement already satisfied: python-dateutil>=2.1 in /usr/local/lib/python3.6/dist-packages (from matplotlib!=3.0.0,>=2.0.0->scikit-image>=0.11.0->imgaug==0.2.5) (2.8.1)\n",
            "Requirement already satisfied: kiwisolver>=1.0.1 in /usr/local/lib/python3.6/dist-packages (from matplotlib!=3.0.0,>=2.0.0->scikit-image>=0.11.0->imgaug==0.2.5) (1.2.0)\n",
            "Requirement already satisfied: cycler>=0.10 in /usr/local/lib/python3.6/dist-packages (from matplotlib!=3.0.0,>=2.0.0->scikit-image>=0.11.0->imgaug==0.2.5) (0.10.0)\n",
            "Building wheels for collected packages: imgaug\n",
            "  Building wheel for imgaug (setup.py) ... \u001b[?25l\u001b[?25hdone\n",
            "  Created wheel for imgaug: filename=imgaug-0.2.5-py3-none-any.whl size=561439 sha256=8577a8bed5943cc11a63c902a81009a21ddabd02160f4210d38d0636b2f9ceb6\n",
            "  Stored in directory: /root/.cache/pip/wheels/18/c5/65/302840d1b6277b23966ca11778526c8ff052900fd12d44ca67\n",
            "Successfully built imgaug\n",
            "Installing collected packages: imgaug\n",
            "  Attempting uninstall: imgaug\n",
            "    Found existing installation: imgaug 0.2.9\n",
            "    Uninstalling imgaug-0.2.9:\n",
            "      Successfully uninstalled imgaug-0.2.9\n",
            "Successfully installed imgaug-0.2.5\n"
          ],
          "name": "stdout"
        }
      ]
    },
    {
      "cell_type": "code",
      "metadata": {
        "id": "bkyCBYaltR4J",
        "colab_type": "code",
        "colab": {}
      },
      "source": [
        "from google.colab import drive\n",
        "drive.mount('/content/gdrive')"
      ],
      "execution_count": null,
      "outputs": []
    },
    {
      "cell_type": "code",
      "metadata": {
        "id": "vVMbqg89tf-W",
        "colab_type": "code",
        "colab": {
          "base_uri": "https://localhost:8080/",
          "height": 35
        },
        "outputId": "053cd335-85f9-4eb3-d2d9-da465e0888b0"
      },
      "source": [
        "%cd /content/"
      ],
      "execution_count": null,
      "outputs": [
        {
          "output_type": "stream",
          "text": [
            "/content\n"
          ],
          "name": "stdout"
        }
      ]
    },
    {
      "cell_type": "code",
      "metadata": {
        "id": "xoBLR6h3tp70",
        "colab_type": "code",
        "colab": {}
      },
      "source": [
        "%ls"
      ],
      "execution_count": null,
      "outputs": []
    },
    {
      "cell_type": "code",
      "metadata": {
        "id": "9mFKwwC3t9TA",
        "colab_type": "code",
        "colab": {
          "base_uri": "https://localhost:8080/",
          "height": 35
        },
        "outputId": "73be7cc3-238e-4228-f445-a0a733a7bfd4"
      },
      "source": [
        "%cd /content/gdrive/My Drive/my-data/faceswap-rahul/"
      ],
      "execution_count": null,
      "outputs": [
        {
          "output_type": "stream",
          "text": [
            "/content/gdrive/My Drive/my-data/faceswap-rahul\n"
          ],
          "name": "stdout"
        }
      ]
    },
    {
      "cell_type": "markdown",
      "metadata": {
        "id": "oALoEPC-hgj_",
        "colab_type": "text"
      },
      "source": [
        "# **Extract Faces**\n",
        "Extract Face image from Target and Destination video"
      ]
    },
    {
      "cell_type": "code",
      "metadata": {
        "id": "q820eRVOx8xU",
        "colab_type": "code",
        "colab": {}
      },
      "source": [
        "!python faceswap.py extract -i '/content/gdrive/My Drive/my-data/faceswap-rahul/src/shahrukh/shahrukh.mp4' -o '/content/gdrive/My Drive/my-data/faceswap-rahul/faces/shahrukh'"
      ],
      "execution_count": null,
      "outputs": []
    },
    {
      "cell_type": "code",
      "metadata": {
        "id": "jt9JWRdgzw5D",
        "colab_type": "code",
        "colab": {}
      },
      "source": [
        "!python faceswap.py extract -i '/content/gdrive/My Drive/my-data/faceswap-rahul/src/rahul/rahul.mp4' -o '/content/gdrive/My Drive/my-data/faceswap-rahul/faces/rahul'"
      ],
      "execution_count": null,
      "outputs": []
    },
    {
      "cell_type": "markdown",
      "metadata": {
        "id": "hWxFXmaPh870",
        "colab_type": "text"
      },
      "source": [
        "# **Train Model**"
      ]
    },
    {
      "cell_type": "code",
      "metadata": {
        "id": "nILwMcYG0ILl",
        "colab_type": "code",
        "colab": {}
      },
      "source": [
        "!python faceswap.py train -A '/content/gdrive/My Drive/my-data/faceswap-rahul/faces/shahrukh' -B '/content/gdrive/My Drive/my-data/faceswap-rahul/faces/rahul' -m '/content/gdrive/My Drive/my-data/faceswap-rahul/model-rahul'"
      ],
      "execution_count": null,
      "outputs": []
    },
    {
      "cell_type": "markdown",
      "metadata": {
        "id": "JPJf8j1vEGJc",
        "colab_type": "text"
      },
      "source": [
        "<br><br><br>\n",
        "# **Restore Model**"
      ]
    },
    {
      "cell_type": "code",
      "metadata": {
        "id": "4Cyf9_zGDVR_",
        "colab_type": "code",
        "colab": {
          "base_uri": "https://localhost:8080/",
          "height": 179
        },
        "outputId": "66638a47-e7f4-4f69-cef2-75f04e548072"
      },
      "source": [
        "!python tools.py restore -L INFO -m '/content/gdrive/My Drive/my-data/faceswap-rahul/model-rahul'"
      ],
      "execution_count": null,
      "outputs": [
        {
          "output_type": "stream",
          "text": [
            "Setting Faceswap backend to NVIDIA\n",
            "Please backup your data and/or test the tool you want to use with a smaller data set to make sure you understand how it works.\n",
            "08/12/2020 05:05:48 INFO     Log level set to: INFO\n",
            "08/12/2020 05:05:49 INFO     Starting Model Restore...\n",
            "08/12/2020 05:05:49 INFO     Original Model found\n",
            "08/12/2020 05:05:49 INFO     Archiving existing model files...\n",
            "08/12/2020 05:05:50 INFO     Restoring models from backup...\n",
            "08/12/2020 05:05:55 INFO     Restoring Logs...\n",
            "08/12/2020 05:06:02 INFO     Completed Model Restore\n"
          ],
          "name": "stdout"
        }
      ]
    },
    {
      "cell_type": "markdown",
      "metadata": {
        "id": "dTI1C2pa5Xsu",
        "colab_type": "text"
      },
      "source": [
        "# **Convert in to Video**"
      ]
    },
    {
      "cell_type": "code",
      "metadata": {
        "id": "Q7OEywfhZk1b",
        "colab_type": "code",
        "colab": {
          "base_uri": "https://localhost:8080/",
          "height": 431
        },
        "outputId": "191112b1-4a08-46da-c10a-b4601092d4a3"
      },
      "source": [
        "!python faceswap.py convert -i '/content/gdrive/My Drive/my-data/faceswap-rahul/src/shahrukh/shahrukh.mp4' -o '/content/gdrive/My Drive/my-data/faceswap-rahul/output/' -m '/content/gdrive/My Drive/my-data/faceswap-rahul/model-rahul/' -w ffmpeg"
      ],
      "execution_count": null,
      "outputs": [
        {
          "output_type": "stream",
          "text": [
            "Setting Faceswap backend to NVIDIA\n",
            "08/13/2020 13:53:55 INFO     Log level set to: INFO\n",
            "Using TensorFlow backend.\n",
            "08/13/2020 13:54:02 INFO     Reading alignments from: '/content/gdrive/My Drive/my-data/faceswap-rahul/src/shahrukh/shahrukh_alignments.fsa'\n",
            "08/13/2020 13:54:03 INFO     Loading Writer from Ffmpeg plugin...\n",
            "08/13/2020 13:54:04 INFO     Loading Model from Original plugin...\n",
            "08/13/2020 13:54:04 INFO     Using configuration saved in state file\n",
            "08/13/2020 13:54:25 INFO     Loaded model from disk: '/content/gdrive/My Drive/my-data/faceswap-rahul/model-rahul'\n",
            "08/13/2020 13:54:25 INFO     Loading Mask from Box_Blend plugin...\n",
            "08/13/2020 13:54:26 INFO     Loading Mask from Mask_Blend plugin...\n",
            "08/13/2020 13:54:26 INFO     Loading Color from Avg_Color plugin...\n",
            "08/13/2020 13:54:33 INFO     Outputting to: '/content/gdrive/My Drive/my-data/faceswap-rahul/output/shahrukh_converted.mp4'\n",
            "Converting: 100% 268/268 [01:10<00:00,  3.78it/s]\n",
            "08/13/2020 13:55:16 INFO     Muxing Audio...\n",
            "08/13/2020 13:55:17 INFO     -------------------------\n",
            "08/13/2020 13:55:17 INFO     Images found:        268\n",
            "08/13/2020 13:55:17 INFO     Faces detected:      321\n",
            "08/13/2020 13:55:17 INFO     -------------------------\n",
            "08/13/2020 13:55:17 INFO     Note:\n",
            "08/13/2020 13:55:17 INFO     Multiple faces were detected in one or more pictures.\n",
            "08/13/2020 13:55:17 INFO     Double check your results.\n",
            "08/13/2020 13:55:17 INFO     -------------------------\n",
            "08/13/2020 13:55:17 INFO     Process Succesfully Completed. Shutting Down...\n"
          ],
          "name": "stdout"
        }
      ]
    }
  ]
}